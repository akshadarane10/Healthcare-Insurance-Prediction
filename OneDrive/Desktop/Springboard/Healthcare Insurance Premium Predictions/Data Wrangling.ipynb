{
 "cells": [
  {
   "cell_type": "code",
   "execution_count": 1,
   "id": "e418868d",
   "metadata": {},
   "outputs": [],
   "source": [
    "import pandas as pd\n",
    "import numpy as np\n",
    "import seaborn as sns\n",
    "import matplotlib.pyplot as plt"
   ]
  },
  {
   "cell_type": "markdown",
   "id": "28b27168",
   "metadata": {},
   "source": [
    "# Data Loading"
   ]
  },
  {
   "cell_type": "code",
   "execution_count": 2,
   "id": "b2f83d8b",
   "metadata": {},
   "outputs": [],
   "source": [
    "insurance_data = pd.read_csv(\"insurance_dataset.csv\")  # Replace with the actual file path\n"
   ]
  },
  {
   "cell_type": "code",
   "execution_count": 3,
   "id": "92bcec9b",
   "metadata": {},
   "outputs": [
    {
     "data": {
      "text/html": [
       "<div>\n",
       "<style scoped>\n",
       "    .dataframe tbody tr th:only-of-type {\n",
       "        vertical-align: middle;\n",
       "    }\n",
       "\n",
       "    .dataframe tbody tr th {\n",
       "        vertical-align: top;\n",
       "    }\n",
       "\n",
       "    .dataframe thead th {\n",
       "        text-align: right;\n",
       "    }\n",
       "</style>\n",
       "<table border=\"1\" class=\"dataframe\">\n",
       "  <thead>\n",
       "    <tr style=\"text-align: right;\">\n",
       "      <th></th>\n",
       "      <th>age</th>\n",
       "      <th>gender</th>\n",
       "      <th>bmi</th>\n",
       "      <th>children</th>\n",
       "      <th>smoker</th>\n",
       "      <th>region</th>\n",
       "      <th>medical_history</th>\n",
       "      <th>family_medical_history</th>\n",
       "      <th>exercise_frequency</th>\n",
       "      <th>occupation</th>\n",
       "      <th>coverage_level</th>\n",
       "      <th>charges</th>\n",
       "    </tr>\n",
       "  </thead>\n",
       "  <tbody>\n",
       "    <tr>\n",
       "      <th>0</th>\n",
       "      <td>55</td>\n",
       "      <td>female</td>\n",
       "      <td>36.41</td>\n",
       "      <td>0</td>\n",
       "      <td>yes</td>\n",
       "      <td>northeast</td>\n",
       "      <td>NaN</td>\n",
       "      <td>NaN</td>\n",
       "      <td>Never</td>\n",
       "      <td>Student</td>\n",
       "      <td>Basic</td>\n",
       "      <td>11896.836610</td>\n",
       "    </tr>\n",
       "    <tr>\n",
       "      <th>1</th>\n",
       "      <td>64</td>\n",
       "      <td>female</td>\n",
       "      <td>20.12</td>\n",
       "      <td>2</td>\n",
       "      <td>no</td>\n",
       "      <td>northeast</td>\n",
       "      <td>High blood pressure</td>\n",
       "      <td>High blood pressure</td>\n",
       "      <td>Never</td>\n",
       "      <td>Blue collar</td>\n",
       "      <td>Basic</td>\n",
       "      <td>9563.655011</td>\n",
       "    </tr>\n",
       "    <tr>\n",
       "      <th>2</th>\n",
       "      <td>40</td>\n",
       "      <td>female</td>\n",
       "      <td>44.93</td>\n",
       "      <td>2</td>\n",
       "      <td>yes</td>\n",
       "      <td>northeast</td>\n",
       "      <td>NaN</td>\n",
       "      <td>Diabetes</td>\n",
       "      <td>Occasionally</td>\n",
       "      <td>Unemployed</td>\n",
       "      <td>Basic</td>\n",
       "      <td>14036.544130</td>\n",
       "    </tr>\n",
       "    <tr>\n",
       "      <th>3</th>\n",
       "      <td>22</td>\n",
       "      <td>female</td>\n",
       "      <td>32.13</td>\n",
       "      <td>5</td>\n",
       "      <td>yes</td>\n",
       "      <td>northeast</td>\n",
       "      <td>Diabetes</td>\n",
       "      <td>NaN</td>\n",
       "      <td>Never</td>\n",
       "      <td>Student</td>\n",
       "      <td>Basic</td>\n",
       "      <td>13669.577830</td>\n",
       "    </tr>\n",
       "    <tr>\n",
       "      <th>4</th>\n",
       "      <td>64</td>\n",
       "      <td>female</td>\n",
       "      <td>29.31</td>\n",
       "      <td>2</td>\n",
       "      <td>no</td>\n",
       "      <td>northeast</td>\n",
       "      <td>High blood pressure</td>\n",
       "      <td>NaN</td>\n",
       "      <td>Frequently</td>\n",
       "      <td>Unemployed</td>\n",
       "      <td>Basic</td>\n",
       "      <td>9414.800786</td>\n",
       "    </tr>\n",
       "  </tbody>\n",
       "</table>\n",
       "</div>"
      ],
      "text/plain": [
       "   age  gender    bmi  children smoker     region      medical_history  \\\n",
       "0   55  female  36.41         0    yes  northeast                  NaN   \n",
       "1   64  female  20.12         2     no  northeast  High blood pressure   \n",
       "2   40  female  44.93         2    yes  northeast                  NaN   \n",
       "3   22  female  32.13         5    yes  northeast             Diabetes   \n",
       "4   64  female  29.31         2     no  northeast  High blood pressure   \n",
       "\n",
       "  family_medical_history exercise_frequency   occupation coverage_level  \\\n",
       "0                    NaN              Never      Student          Basic   \n",
       "1    High blood pressure              Never  Blue collar          Basic   \n",
       "2               Diabetes       Occasionally   Unemployed          Basic   \n",
       "3                    NaN              Never      Student          Basic   \n",
       "4                    NaN         Frequently   Unemployed          Basic   \n",
       "\n",
       "        charges  \n",
       "0  11896.836610  \n",
       "1   9563.655011  \n",
       "2  14036.544130  \n",
       "3  13669.577830  \n",
       "4   9414.800786  "
      ]
     },
     "execution_count": 3,
     "metadata": {},
     "output_type": "execute_result"
    }
   ],
   "source": [
    "insurance_data.head()"
   ]
  },
  {
   "cell_type": "code",
   "execution_count": 4,
   "id": "402db481",
   "metadata": {},
   "outputs": [
    {
     "name": "stdout",
     "output_type": "stream",
     "text": [
      "<class 'pandas.core.frame.DataFrame'>\n",
      "RangeIndex: 250343 entries, 0 to 250342\n",
      "Data columns (total 12 columns):\n",
      " #   Column                  Non-Null Count   Dtype  \n",
      "---  ------                  --------------   -----  \n",
      " 0   age                     250343 non-null  int64  \n",
      " 1   gender                  250343 non-null  object \n",
      " 2   bmi                     250343 non-null  float64\n",
      " 3   children                250343 non-null  int64  \n",
      " 4   smoker                  250343 non-null  object \n",
      " 5   region                  250343 non-null  object \n",
      " 6   medical_history         187802 non-null  object \n",
      " 7   family_medical_history  187725 non-null  object \n",
      " 8   exercise_frequency      250343 non-null  object \n",
      " 9   occupation              250343 non-null  object \n",
      " 10  coverage_level          250343 non-null  object \n",
      " 11  charges                 250343 non-null  float64\n",
      "dtypes: float64(2), int64(2), object(8)\n",
      "memory usage: 22.9+ MB\n",
      "None\n"
     ]
    }
   ],
   "source": [
    "# Inspect data types\n",
    "print(insurance_data.info())"
   ]
  },
  {
   "cell_type": "code",
   "execution_count": 5,
   "id": "6328e4ec",
   "metadata": {},
   "outputs": [
    {
     "name": "stdout",
     "output_type": "stream",
     "text": [
      "                 age            bmi       children        charges\n",
      "count  250343.000000  250343.000000  250343.000000  250343.000000\n",
      "mean       41.480013      34.000960       2.498624   17235.915140\n",
      "std        13.880756       9.235525       1.707251    4406.706136\n",
      "min        18.000000      18.000000       0.000000    4011.061723\n",
      "25%        29.000000      26.010000       1.000000   14111.826735\n",
      "50%        41.000000      33.980000       2.000000   17115.127360\n",
      "75%        53.000000      42.000000       4.000000   20280.361240\n",
      "max        65.000000      50.000000       5.000000   32561.560370\n"
     ]
    }
   ],
   "source": [
    "# Describe the dataset\n",
    "print(insurance_data.describe())"
   ]
  },
  {
   "cell_type": "code",
   "execution_count": 6,
   "id": "ee22b95b",
   "metadata": {},
   "outputs": [
    {
     "name": "stdout",
     "output_type": "stream",
     "text": [
      "0\n"
     ]
    }
   ],
   "source": [
    "# Check for duplicates\n",
    "print(insurance_data.duplicated().sum())"
   ]
  },
  {
   "cell_type": "code",
   "execution_count": 7,
   "id": "0b62626b",
   "metadata": {},
   "outputs": [
    {
     "name": "stdout",
     "output_type": "stream",
     "text": [
      "age                           0\n",
      "gender                        0\n",
      "bmi                           0\n",
      "children                      0\n",
      "smoker                        0\n",
      "region                        0\n",
      "medical_history           62541\n",
      "family_medical_history    62618\n",
      "exercise_frequency            0\n",
      "occupation                    0\n",
      "coverage_level                0\n",
      "charges                       0\n",
      "dtype: int64\n"
     ]
    }
   ],
   "source": [
    "# Check for missing values\n",
    "print(insurance_data.isnull().sum())"
   ]
  },
  {
   "cell_type": "code",
   "execution_count": 8,
   "id": "9d363926",
   "metadata": {},
   "outputs": [],
   "source": [
    "##fill the null values as 'No history', to avoid data loss"
   ]
  },
  {
   "cell_type": "code",
   "execution_count": 9,
   "id": "5b596b09",
   "metadata": {},
   "outputs": [],
   "source": [
    "# Replace 'None' with 'No history' in medical-related columns\n",
    "insurance_data['medical_history'].fillna('No history', inplace=True)\n",
    "insurance_data['family_medical_history'].fillna('No history', inplace=True)"
   ]
  },
  {
   "cell_type": "code",
   "execution_count": 10,
   "id": "027683f4",
   "metadata": {},
   "outputs": [
    {
     "name": "stdout",
     "output_type": "stream",
     "text": [
      "age                       0\n",
      "gender                    0\n",
      "bmi                       0\n",
      "children                  0\n",
      "smoker                    0\n",
      "region                    0\n",
      "medical_history           0\n",
      "family_medical_history    0\n",
      "exercise_frequency        0\n",
      "occupation                0\n",
      "coverage_level            0\n",
      "charges                   0\n",
      "dtype: int64\n"
     ]
    }
   ],
   "source": [
    "# Check for missing values\n",
    "print(insurance_data.isnull().sum())"
   ]
  },
  {
   "cell_type": "code",
   "execution_count": 11,
   "id": "0f3976db",
   "metadata": {},
   "outputs": [],
   "source": [
    "##fixing the data types\n",
    "## bmi, children, charges - int/float\n",
    "## convert caegorical columns - gender, region, smoker etc - categories"
   ]
  },
  {
   "cell_type": "code",
   "execution_count": 12,
   "id": "00d72af3",
   "metadata": {},
   "outputs": [
    {
     "data": {
      "text/plain": [
       "Index(['age', 'gender', 'bmi', 'children', 'smoker', 'region',\n",
       "       'medical_history', 'family_medical_history', 'exercise_frequency',\n",
       "       'occupation', 'coverage_level', 'charges'],\n",
       "      dtype='object')"
      ]
     },
     "execution_count": 12,
     "metadata": {},
     "output_type": "execute_result"
    }
   ],
   "source": [
    "insurance_data.columns"
   ]
  },
  {
   "cell_type": "code",
   "execution_count": 13,
   "id": "65ffbad8",
   "metadata": {},
   "outputs": [],
   "source": [
    "categorical_columns = ['gender', 'smoker', 'region', 'medical_history', 'family_medical_history', 'exercise_frequency',\n",
    "       'occupation', 'coverage_level']\n",
    "\n",
    "for col in categorical_columns:\n",
    "    insurance_data[col] = insurance_data[col].astype('category')"
   ]
  },
  {
   "cell_type": "code",
   "execution_count": 14,
   "id": "ba510dd3",
   "metadata": {},
   "outputs": [
    {
     "name": "stdout",
     "output_type": "stream",
     "text": [
      "<class 'pandas.core.frame.DataFrame'>\n",
      "RangeIndex: 250343 entries, 0 to 250342\n",
      "Data columns (total 12 columns):\n",
      " #   Column                  Non-Null Count   Dtype   \n",
      "---  ------                  --------------   -----   \n",
      " 0   age                     250343 non-null  int64   \n",
      " 1   gender                  250343 non-null  category\n",
      " 2   bmi                     250343 non-null  float64 \n",
      " 3   children                250343 non-null  int64   \n",
      " 4   smoker                  250343 non-null  category\n",
      " 5   region                  250343 non-null  category\n",
      " 6   medical_history         250343 non-null  category\n",
      " 7   family_medical_history  250343 non-null  category\n",
      " 8   exercise_frequency      250343 non-null  category\n",
      " 9   occupation              250343 non-null  category\n",
      " 10  coverage_level          250343 non-null  category\n",
      " 11  charges                 250343 non-null  float64 \n",
      "dtypes: category(8), float64(2), int64(2)\n",
      "memory usage: 9.6 MB\n"
     ]
    }
   ],
   "source": [
    "insurance_data.info()"
   ]
  },
  {
   "cell_type": "code",
   "execution_count": 15,
   "id": "2fab8ed2",
   "metadata": {},
   "outputs": [
    {
     "data": {
      "text/plain": [
       "Text(0.5, 1.0, 'Boxplot of BMI')"
      ]
     },
     "execution_count": 15,
     "metadata": {},
     "output_type": "execute_result"
    },
    {
     "data": {
      "image/png": "[encoded data removed]",
      "text/plain": [
       "<Figure size 640x480 with 1 Axes>"
      ]
     },
     "metadata": {},
     "output_type": "display_data"
    }
   ],
   "source": [
    "# Boxplot for BMI\n",
    "plt.subplot(1, 2, 1)\n",
    "sns.boxplot(data=insurance_data, x='bmi', color='skyblue')\n",
    "plt.title(\"Boxplot of BMI\")"
   ]
  },
  {
   "cell_type": "code",
   "execution_count": 16,
   "id": "4e43fbbe",
   "metadata": {},
   "outputs": [
    {
     "data": {
      "text/plain": [
       "Text(0.5, 1.0, 'Boxplot of Charges')"
      ]
     },
     "execution_count": 16,
     "metadata": {},
     "output_type": "execute_result"
    },
    {
     "data": {
      "image/png": "[encoded data removed]",
      "text/plain": [
       "<Figure size 640x480 with 1 Axes>"
      ]
     },
     "metadata": {},
     "output_type": "display_data"
    }
   ],
   "source": [
    "# Boxplot for Charges\n",
    "plt.subplot(1, 2, 2)\n",
    "sns.boxplot(data=insurance_data, x='charges', color='salmon')\n",
    "plt.title(\"Boxplot of Charges\")"
   ]
  },
  {
   "cell_type": "code",
   "execution_count": 17,
   "id": "3e697cbf",
   "metadata": {},
   "outputs": [],
   "source": [
    "def detect_outliers_iqr(data, column):\n",
    "    Q1 = data[column].quantile(0.25)\n",
    "    Q3 = data[column].quantile(0.75)\n",
    "    IQR = Q3 - Q1\n",
    "    \n",
    "    lower_bound =  Q1 - 1.5*IQR\n",
    "    upper_bound =  Q3 + 1.5*IQR\n",
    "    \n",
    "    outliers = data[(data[column] < lower_bound) | (data[column] > upper_bound)]\n",
    "    return outliers, lower_bound, upper_bound"
   ]
  },
  {
   "cell_type": "code",
   "execution_count": 18,
   "id": "047baf6b",
   "metadata": {},
   "outputs": [],
   "source": [
    "bmi_outliers, bmi_lower, bmi_upper = detect_outliers_iqr(insurance_data, 'bmi')"
   ]
  },
  {
   "cell_type": "code",
   "execution_count": 19,
   "id": "433ce699",
   "metadata": {},
   "outputs": [],
   "source": [
    "charges_outliers, charges_lower, charges_upper = detect_outliers_iqr(insurance_data, 'bmi')"
   ]
  },
  {
   "cell_type": "code",
   "execution_count": 20,
   "id": "0674ac9a",
   "metadata": {},
   "outputs": [
    {
     "name": "stdout",
     "output_type": "stream",
     "text": [
      "BMI Outliers: Empty DataFrame\n",
      "Columns: [age, gender, bmi, children, smoker, region, medical_history, family_medical_history, exercise_frequency, occupation, coverage_level, charges]\n",
      "Index: []\n"
     ]
    }
   ],
   "source": [
    "print(\"BMI Outliers:\" , bmi_outliers)"
   ]
  },
  {
   "cell_type": "code",
   "execution_count": 21,
   "id": "c6f9c92e",
   "metadata": {},
   "outputs": [
    {
     "name": "stdout",
     "output_type": "stream",
     "text": [
      "charges Outliers: Empty DataFrame\n",
      "Columns: [age, gender, bmi, children, smoker, region, medical_history, family_medical_history, exercise_frequency, occupation, coverage_level, charges]\n",
      "Index: []\n"
     ]
    }
   ],
   "source": [
    "print(\"charges Outliers:\" , charges_outliers)"
   ]
  },
  {
   "cell_type": "code",
   "execution_count": 22,
   "id": "0a4f71ac",
   "metadata": {},
   "outputs": [],
   "source": [
    "#Create a New Feature: is_child & is active\n",
    "insurance_data['is_child'] = insurance_data['age'] < 18"
   ]
  },
  {
   "cell_type": "code",
   "execution_count": 23,
   "id": "38fd3ab6",
   "metadata": {},
   "outputs": [
    {
     "data": {
      "text/html": [
       "<div>\n",
       "<style scoped>\n",
       "    .dataframe tbody tr th:only-of-type {\n",
       "        vertical-align: middle;\n",
       "    }\n",
       "\n",
       "    .dataframe tbody tr th {\n",
       "        vertical-align: top;\n",
       "    }\n",
       "\n",
       "    .dataframe thead th {\n",
       "        text-align: right;\n",
       "    }\n",
       "</style>\n",
       "<table border=\"1\" class=\"dataframe\">\n",
       "  <thead>\n",
       "    <tr style=\"text-align: right;\">\n",
       "      <th></th>\n",
       "      <th>age</th>\n",
       "      <th>gender</th>\n",
       "      <th>bmi</th>\n",
       "      <th>children</th>\n",
       "      <th>smoker</th>\n",
       "      <th>region</th>\n",
       "      <th>medical_history</th>\n",
       "      <th>family_medical_history</th>\n",
       "      <th>exercise_frequency</th>\n",
       "      <th>occupation</th>\n",
       "      <th>coverage_level</th>\n",
       "      <th>charges</th>\n",
       "      <th>is_child</th>\n",
       "    </tr>\n",
       "  </thead>\n",
       "  <tbody>\n",
       "    <tr>\n",
       "      <th>0</th>\n",
       "      <td>55</td>\n",
       "      <td>female</td>\n",
       "      <td>36.41</td>\n",
       "      <td>0</td>\n",
       "      <td>yes</td>\n",
       "      <td>northeast</td>\n",
       "      <td>No history</td>\n",
       "      <td>No history</td>\n",
       "      <td>Never</td>\n",
       "      <td>Student</td>\n",
       "      <td>Basic</td>\n",
       "      <td>11896.836610</td>\n",
       "      <td>False</td>\n",
       "    </tr>\n",
       "    <tr>\n",
       "      <th>1</th>\n",
       "      <td>64</td>\n",
       "      <td>female</td>\n",
       "      <td>20.12</td>\n",
       "      <td>2</td>\n",
       "      <td>no</td>\n",
       "      <td>northeast</td>\n",
       "      <td>High blood pressure</td>\n",
       "      <td>High blood pressure</td>\n",
       "      <td>Never</td>\n",
       "      <td>Blue collar</td>\n",
       "      <td>Basic</td>\n",
       "      <td>9563.655011</td>\n",
       "      <td>False</td>\n",
       "    </tr>\n",
       "    <tr>\n",
       "      <th>2</th>\n",
       "      <td>40</td>\n",
       "      <td>female</td>\n",
       "      <td>44.93</td>\n",
       "      <td>2</td>\n",
       "      <td>yes</td>\n",
       "      <td>northeast</td>\n",
       "      <td>No history</td>\n",
       "      <td>Diabetes</td>\n",
       "      <td>Occasionally</td>\n",
       "      <td>Unemployed</td>\n",
       "      <td>Basic</td>\n",
       "      <td>14036.544130</td>\n",
       "      <td>False</td>\n",
       "    </tr>\n",
       "    <tr>\n",
       "      <th>3</th>\n",
       "      <td>22</td>\n",
       "      <td>female</td>\n",
       "      <td>32.13</td>\n",
       "      <td>5</td>\n",
       "      <td>yes</td>\n",
       "      <td>northeast</td>\n",
       "      <td>Diabetes</td>\n",
       "      <td>No history</td>\n",
       "      <td>Never</td>\n",
       "      <td>Student</td>\n",
       "      <td>Basic</td>\n",
       "      <td>13669.577830</td>\n",
       "      <td>False</td>\n",
       "    </tr>\n",
       "    <tr>\n",
       "      <th>4</th>\n",
       "      <td>64</td>\n",
       "      <td>female</td>\n",
       "      <td>29.31</td>\n",
       "      <td>2</td>\n",
       "      <td>no</td>\n",
       "      <td>northeast</td>\n",
       "      <td>High blood pressure</td>\n",
       "      <td>No history</td>\n",
       "      <td>Frequently</td>\n",
       "      <td>Unemployed</td>\n",
       "      <td>Basic</td>\n",
       "      <td>9414.800786</td>\n",
       "      <td>False</td>\n",
       "    </tr>\n",
       "  </tbody>\n",
       "</table>\n",
       "</div>"
      ],
      "text/plain": [
       "   age  gender    bmi  children smoker     region      medical_history  \\\n",
       "0   55  female  36.41         0    yes  northeast           No history   \n",
       "1   64  female  20.12         2     no  northeast  High blood pressure   \n",
       "2   40  female  44.93         2    yes  northeast           No history   \n",
       "3   22  female  32.13         5    yes  northeast             Diabetes   \n",
       "4   64  female  29.31         2     no  northeast  High blood pressure   \n",
       "\n",
       "  family_medical_history exercise_frequency   occupation coverage_level  \\\n",
       "0             No history              Never      Student          Basic   \n",
       "1    High blood pressure              Never  Blue collar          Basic   \n",
       "2               Diabetes       Occasionally   Unemployed          Basic   \n",
       "3             No history              Never      Student          Basic   \n",
       "4             No history         Frequently   Unemployed          Basic   \n",
       "\n",
       "        charges  is_child  \n",
       "0  11896.836610     False  \n",
       "1   9563.655011     False  \n",
       "2  14036.544130     False  \n",
       "3  13669.577830     False  \n",
       "4   9414.800786     False  "
      ]
     },
     "execution_count": 23,
     "metadata": {},
     "output_type": "execute_result"
    }
   ],
   "source": [
    "insurance_data.head()"
   ]
  },
  {
   "cell_type": "code",
   "execution_count": 24,
   "id": "7108e9c4",
   "metadata": {},
   "outputs": [],
   "source": [
    "insurance_data['is_active'] = insurance_data['exercise_frequency'].apply(lambda x: x in ['Frequently', 'Occasionally'])"
   ]
  },
  {
   "cell_type": "code",
   "execution_count": 25,
   "id": "78159828",
   "metadata": {},
   "outputs": [
    {
     "data": {
      "text/html": [
       "<div>\n",
       "<style scoped>\n",
       "    .dataframe tbody tr th:only-of-type {\n",
       "        vertical-align: middle;\n",
       "    }\n",
       "\n",
       "    .dataframe tbody tr th {\n",
       "        vertical-align: top;\n",
       "    }\n",
       "\n",
       "    .dataframe thead th {\n",
       "        text-align: right;\n",
       "    }\n",
       "</style>\n",
       "<table border=\"1\" class=\"dataframe\">\n",
       "  <thead>\n",
       "    <tr style=\"text-align: right;\">\n",
       "      <th></th>\n",
       "      <th>age</th>\n",
       "      <th>gender</th>\n",
       "      <th>bmi</th>\n",
       "      <th>children</th>\n",
       "      <th>smoker</th>\n",
       "      <th>region</th>\n",
       "      <th>medical_history</th>\n",
       "      <th>family_medical_history</th>\n",
       "      <th>exercise_frequency</th>\n",
       "      <th>occupation</th>\n",
       "      <th>coverage_level</th>\n",
       "      <th>charges</th>\n",
       "      <th>is_child</th>\n",
       "      <th>is_active</th>\n",
       "    </tr>\n",
       "  </thead>\n",
       "  <tbody>\n",
       "    <tr>\n",
       "      <th>0</th>\n",
       "      <td>55</td>\n",
       "      <td>female</td>\n",
       "      <td>36.41</td>\n",
       "      <td>0</td>\n",
       "      <td>yes</td>\n",
       "      <td>northeast</td>\n",
       "      <td>No history</td>\n",
       "      <td>No history</td>\n",
       "      <td>Never</td>\n",
       "      <td>Student</td>\n",
       "      <td>Basic</td>\n",
       "      <td>11896.836610</td>\n",
       "      <td>False</td>\n",
       "      <td>False</td>\n",
       "    </tr>\n",
       "    <tr>\n",
       "      <th>1</th>\n",
       "      <td>64</td>\n",
       "      <td>female</td>\n",
       "      <td>20.12</td>\n",
       "      <td>2</td>\n",
       "      <td>no</td>\n",
       "      <td>northeast</td>\n",
       "      <td>High blood pressure</td>\n",
       "      <td>High blood pressure</td>\n",
       "      <td>Never</td>\n",
       "      <td>Blue collar</td>\n",
       "      <td>Basic</td>\n",
       "      <td>9563.655011</td>\n",
       "      <td>False</td>\n",
       "      <td>False</td>\n",
       "    </tr>\n",
       "    <tr>\n",
       "      <th>2</th>\n",
       "      <td>40</td>\n",
       "      <td>female</td>\n",
       "      <td>44.93</td>\n",
       "      <td>2</td>\n",
       "      <td>yes</td>\n",
       "      <td>northeast</td>\n",
       "      <td>No history</td>\n",
       "      <td>Diabetes</td>\n",
       "      <td>Occasionally</td>\n",
       "      <td>Unemployed</td>\n",
       "      <td>Basic</td>\n",
       "      <td>14036.544130</td>\n",
       "      <td>False</td>\n",
       "      <td>True</td>\n",
       "    </tr>\n",
       "    <tr>\n",
       "      <th>3</th>\n",
       "      <td>22</td>\n",
       "      <td>female</td>\n",
       "      <td>32.13</td>\n",
       "      <td>5</td>\n",
       "      <td>yes</td>\n",
       "      <td>northeast</td>\n",
       "      <td>Diabetes</td>\n",
       "      <td>No history</td>\n",
       "      <td>Never</td>\n",
       "      <td>Student</td>\n",
       "      <td>Basic</td>\n",
       "      <td>13669.577830</td>\n",
       "      <td>False</td>\n",
       "      <td>False</td>\n",
       "    </tr>\n",
       "    <tr>\n",
       "      <th>4</th>\n",
       "      <td>64</td>\n",
       "      <td>female</td>\n",
       "      <td>29.31</td>\n",
       "      <td>2</td>\n",
       "      <td>no</td>\n",
       "      <td>northeast</td>\n",
       "      <td>High blood pressure</td>\n",
       "      <td>No history</td>\n",
       "      <td>Frequently</td>\n",
       "      <td>Unemployed</td>\n",
       "      <td>Basic</td>\n",
       "      <td>9414.800786</td>\n",
       "      <td>False</td>\n",
       "      <td>True</td>\n",
       "    </tr>\n",
       "  </tbody>\n",
       "</table>\n",
       "</div>"
      ],
      "text/plain": [
       "   age  gender    bmi  children smoker     region      medical_history  \\\n",
       "0   55  female  36.41         0    yes  northeast           No history   \n",
       "1   64  female  20.12         2     no  northeast  High blood pressure   \n",
       "2   40  female  44.93         2    yes  northeast           No history   \n",
       "3   22  female  32.13         5    yes  northeast             Diabetes   \n",
       "4   64  female  29.31         2     no  northeast  High blood pressure   \n",
       "\n",
       "  family_medical_history exercise_frequency   occupation coverage_level  \\\n",
       "0             No history              Never      Student          Basic   \n",
       "1    High blood pressure              Never  Blue collar          Basic   \n",
       "2               Diabetes       Occasionally   Unemployed          Basic   \n",
       "3             No history              Never      Student          Basic   \n",
       "4             No history         Frequently   Unemployed          Basic   \n",
       "\n",
       "        charges  is_child  is_active  \n",
       "0  11896.836610     False      False  \n",
       "1   9563.655011     False      False  \n",
       "2  14036.544130     False       True  \n",
       "3  13669.577830     False      False  \n",
       "4   9414.800786     False       True  "
      ]
     },
     "execution_count": 25,
     "metadata": {},
     "output_type": "execute_result"
    }
   ],
   "source": [
    "insurance_data.head()"
   ]
  },
  {
   "cell_type": "code",
   "execution_count": 26,
   "id": "9e8e0d56",
   "metadata": {},
   "outputs": [],
   "source": [
    "##check for unique values:"
   ]
  },
  {
   "cell_type": "code",
   "execution_count": 36,
   "id": "2ad5ced4",
   "metadata": {},
   "outputs": [
    {
     "data": {
      "text/html": [
       "<div>\n",
       "<style scoped>\n",
       "    .dataframe tbody tr th:only-of-type {\n",
       "        vertical-align: middle;\n",
       "    }\n",
       "\n",
       "    .dataframe tbody tr th {\n",
       "        vertical-align: top;\n",
       "    }\n",
       "\n",
       "    .dataframe thead th {\n",
       "        text-align: right;\n",
       "    }\n",
       "</style>\n",
       "<table border=\"1\" class=\"dataframe\">\n",
       "  <thead>\n",
       "    <tr style=\"text-align: right;\">\n",
       "      <th></th>\n",
       "      <th>Column</th>\n",
       "      <th>Unique Value</th>\n",
       "      <th>Count</th>\n",
       "    </tr>\n",
       "  </thead>\n",
       "  <tbody>\n",
       "    <tr>\n",
       "      <th>0</th>\n",
       "      <td>gender</td>\n",
       "      <td>female</td>\n",
       "      <td>125211</td>\n",
       "    </tr>\n",
       "    <tr>\n",
       "      <th>1</th>\n",
       "      <td>gender</td>\n",
       "      <td>male</td>\n",
       "      <td>125132</td>\n",
       "    </tr>\n",
       "    <tr>\n",
       "      <th>2</th>\n",
       "      <td>smoker</td>\n",
       "      <td>no</td>\n",
       "      <td>125381</td>\n",
       "    </tr>\n",
       "    <tr>\n",
       "      <th>3</th>\n",
       "      <td>smoker</td>\n",
       "      <td>yes</td>\n",
       "      <td>124962</td>\n",
       "    </tr>\n",
       "    <tr>\n",
       "      <th>4</th>\n",
       "      <td>region</td>\n",
       "      <td>northeast</td>\n",
       "      <td>250343</td>\n",
       "    </tr>\n",
       "    <tr>\n",
       "      <th>5</th>\n",
       "      <td>medical_history</td>\n",
       "      <td>Heart disease</td>\n",
       "      <td>62743</td>\n",
       "    </tr>\n",
       "    <tr>\n",
       "      <th>6</th>\n",
       "      <td>medical_history</td>\n",
       "      <td>No history</td>\n",
       "      <td>62541</td>\n",
       "    </tr>\n",
       "    <tr>\n",
       "      <th>7</th>\n",
       "      <td>medical_history</td>\n",
       "      <td>High blood pressure</td>\n",
       "      <td>62537</td>\n",
       "    </tr>\n",
       "    <tr>\n",
       "      <th>8</th>\n",
       "      <td>medical_history</td>\n",
       "      <td>Diabetes</td>\n",
       "      <td>62522</td>\n",
       "    </tr>\n",
       "    <tr>\n",
       "      <th>9</th>\n",
       "      <td>family_medical_history</td>\n",
       "      <td>Diabetes</td>\n",
       "      <td>62758</td>\n",
       "    </tr>\n",
       "    <tr>\n",
       "      <th>10</th>\n",
       "      <td>family_medical_history</td>\n",
       "      <td>No history</td>\n",
       "      <td>62618</td>\n",
       "    </tr>\n",
       "    <tr>\n",
       "      <th>11</th>\n",
       "      <td>family_medical_history</td>\n",
       "      <td>High blood pressure</td>\n",
       "      <td>62484</td>\n",
       "    </tr>\n",
       "    <tr>\n",
       "      <th>12</th>\n",
       "      <td>family_medical_history</td>\n",
       "      <td>Heart disease</td>\n",
       "      <td>62483</td>\n",
       "    </tr>\n",
       "    <tr>\n",
       "      <th>13</th>\n",
       "      <td>exercise_frequency</td>\n",
       "      <td>Occasionally</td>\n",
       "      <td>62942</td>\n",
       "    </tr>\n",
       "    <tr>\n",
       "      <th>14</th>\n",
       "      <td>exercise_frequency</td>\n",
       "      <td>Rarely</td>\n",
       "      <td>62675</td>\n",
       "    </tr>\n",
       "    <tr>\n",
       "      <th>15</th>\n",
       "      <td>exercise_frequency</td>\n",
       "      <td>Frequently</td>\n",
       "      <td>62611</td>\n",
       "    </tr>\n",
       "    <tr>\n",
       "      <th>16</th>\n",
       "      <td>exercise_frequency</td>\n",
       "      <td>Never</td>\n",
       "      <td>62115</td>\n",
       "    </tr>\n",
       "    <tr>\n",
       "      <th>17</th>\n",
       "      <td>occupation</td>\n",
       "      <td>Unemployed</td>\n",
       "      <td>62742</td>\n",
       "    </tr>\n",
       "    <tr>\n",
       "      <th>18</th>\n",
       "      <td>occupation</td>\n",
       "      <td>Blue collar</td>\n",
       "      <td>62686</td>\n",
       "    </tr>\n",
       "    <tr>\n",
       "      <th>19</th>\n",
       "      <td>occupation</td>\n",
       "      <td>Student</td>\n",
       "      <td>62486</td>\n",
       "    </tr>\n",
       "    <tr>\n",
       "      <th>20</th>\n",
       "      <td>occupation</td>\n",
       "      <td>White collar</td>\n",
       "      <td>62429</td>\n",
       "    </tr>\n",
       "    <tr>\n",
       "      <th>21</th>\n",
       "      <td>coverage_level</td>\n",
       "      <td>Standard</td>\n",
       "      <td>83810</td>\n",
       "    </tr>\n",
       "    <tr>\n",
       "      <th>22</th>\n",
       "      <td>coverage_level</td>\n",
       "      <td>Premium</td>\n",
       "      <td>83337</td>\n",
       "    </tr>\n",
       "    <tr>\n",
       "      <th>23</th>\n",
       "      <td>coverage_level</td>\n",
       "      <td>Basic</td>\n",
       "      <td>83196</td>\n",
       "    </tr>\n",
       "  </tbody>\n",
       "</table>\n",
       "</div>"
      ],
      "text/plain": [
       "                    Column         Unique Value   Count\n",
       "0                   gender               female  125211\n",
       "1                   gender                 male  125132\n",
       "2                   smoker                   no  125381\n",
       "3                   smoker                  yes  124962\n",
       "4                   region            northeast  250343\n",
       "5          medical_history        Heart disease   62743\n",
       "6          medical_history           No history   62541\n",
       "7          medical_history  High blood pressure   62537\n",
       "8          medical_history             Diabetes   62522\n",
       "9   family_medical_history             Diabetes   62758\n",
       "10  family_medical_history           No history   62618\n",
       "11  family_medical_history  High blood pressure   62484\n",
       "12  family_medical_history        Heart disease   62483\n",
       "13      exercise_frequency         Occasionally   62942\n",
       "14      exercise_frequency               Rarely   62675\n",
       "15      exercise_frequency           Frequently   62611\n",
       "16      exercise_frequency                Never   62115\n",
       "17              occupation           Unemployed   62742\n",
       "18              occupation          Blue collar   62686\n",
       "19              occupation              Student   62486\n",
       "20              occupation         White collar   62429\n",
       "21          coverage_level             Standard   83810\n",
       "22          coverage_level              Premium   83337\n",
       "23          coverage_level                Basic   83196"
      ]
     },
     "execution_count": 36,
     "metadata": {},
     "output_type": "execute_result"
    }
   ],
   "source": [
    "unique_values = []\n",
    "\n",
    "for col in ['gender', 'smoker', 'region', 'medical_history', 'family_medical_history', 'exercise_frequency',\n",
    "       'occupation', 'coverage_level']:\n",
    "    unique_counts = insurance_data[col].value_counts()\n",
    "    for value, count in unique_counts.items():\n",
    "        unique_values.append([col, value, count])\n",
    "        \n",
    "#Convert to Dataframe\n",
    "unique_values_df = pd.DataFrame(unique_values, columns = ['Column', 'Unique Value', 'Count'])\n",
    "   \n",
    "# Display the results\n",
    "unique_values_df"
   ]
  },
  {
   "cell_type": "markdown",
   "id": "b68e751a",
   "metadata": {},
   "source": [
    "# EDA: "
   ]
  },
  {
   "cell_type": "markdown",
   "id": "c2e30bdf",
   "metadata": {},
   "source": [
    "Average amount of payment grouped by age, gender & occupation for the premium/standard/basic coverage level"
   ]
  },
  {
   "cell_type": "code",
   "execution_count": 31,
   "id": "788ba17e",
   "metadata": {},
   "outputs": [
    {
     "data": {
      "text/plain": [
       "<Axes: xlabel='age_group'>"
      ]
     },
     "execution_count": 31,
     "metadata": {},
     "output_type": "execute_result"
    },
    {
     "data": {
      "image/png": "[encoded data removed]",
      "text/plain": [
       "<Figure size 640x480 with 1 Axes>"
      ]
     },
     "metadata": {},
     "output_type": "display_data"
    }
   ],
   "source": [
    "df02=insurance_data.copy()\n",
    "df02[\"age_group\"] = pd.cut(x = insurance_data[\"age\"], bins = [0, 10, 20, 30, 40, 50, 60, 70, 80],\n",
    "                         labels = [\"0-9\", \"10-19\", \"20-29\", \"30-39\", \"40-49\", \"50-59\", \"60-69\", \"70+\"], right = False)\n",
    "df02.groupby(['age_group'])['charges'].mean().plot.line()"
   ]
  },
  {
   "cell_type": "code",
   "execution_count": 33,
   "id": "94dc8323",
   "metadata": {},
   "outputs": [
    {
     "data": {
      "text/plain": [
       "<Axes: xlabel='gender'>"
      ]
     },
     "execution_count": 33,
     "metadata": {},
     "output_type": "execute_result"
    },
    {
     "data": {
      "image/png": "[encoded data removed]",
      "text/plain": [
       "<Figure size 640x480 with 1 Axes>"
      ]
     },
     "metadata": {},
     "output_type": "display_data"
    }
   ],
   "source": [
    "insurance_data.groupby(['gender'])['charges'].mean().plot.bar()"
   ]
  },
  {
   "cell_type": "code",
   "execution_count": 34,
   "id": "dc1d2225",
   "metadata": {},
   "outputs": [
    {
     "data": {
      "text/plain": [
       "<Axes: xlabel='occupation'>"
      ]
     },
     "execution_count": 34,
     "metadata": {},
     "output_type": "execute_result"
    },
    {
     "data": {
      "image/png": "[encoded data removed]",
      "text/plain": [
       "<Figure size 640x480 with 1 Axes>"
      ]
     },
     "metadata": {},
     "output_type": "display_data"
    }
   ],
   "source": [
    "insurance_data.groupby(['occupation'])['charges'].mean().plot.bar()"
   ]
  },
  {
   "cell_type": "code",
   "execution_count": 35,
   "id": "5b0437f3",
   "metadata": {},
   "outputs": [
    {
     "data": {
      "text/plain": [
       "<Axes: xlabel='medical_history'>"
      ]
     },
     "execution_count": 35,
     "metadata": {},
     "output_type": "execute_result"
    },
    {
     "data": {
      "image/png": "[encoded data removed]",
      "text/plain": [
       "<Figure size 640x480 with 1 Axes>"
      ]
     },
     "metadata": {},
     "output_type": "display_data"
    }
   ],
   "source": [
    "insurance_data.groupby(['medical_history'])['charges'].mean().plot.bar()"
   ]
  },
  {
   "cell_type": "markdown",
   "id": "18891527",
   "metadata": {},
   "source": [
    "From the preliminary analysis above, it appears that advanced age, male gender, occupation of white collar and background heart disease are associated with higher insurance charges."
   ]
  },
  {
   "cell_type": "code",
   "execution_count": 42,
   "id": "ccc1cc4d",
   "metadata": {},
   "outputs": [],
   "source": [
    "# One-hot encoding for categorical columns\n",
    "insurance_data_encoded = pd.get_dummies(insurance_data, columns = categorical_columns, drop_first = True).astype(int)"
   ]
  },
  {
   "cell_type": "code",
   "execution_count": 43,
   "id": "f55423cc",
   "metadata": {},
   "outputs": [
    {
     "data": {
      "text/html": [
       "<div>\n",
       "<style scoped>\n",
       "    .dataframe tbody tr th:only-of-type {\n",
       "        vertical-align: middle;\n",
       "    }\n",
       "\n",
       "    .dataframe tbody tr th {\n",
       "        vertical-align: top;\n",
       "    }\n",
       "\n",
       "    .dataframe thead th {\n",
       "        text-align: right;\n",
       "    }\n",
       "</style>\n",
       "<table border=\"1\" class=\"dataframe\">\n",
       "  <thead>\n",
       "    <tr style=\"text-align: right;\">\n",
       "      <th></th>\n",
       "      <th>age</th>\n",
       "      <th>bmi</th>\n",
       "      <th>children</th>\n",
       "      <th>charges</th>\n",
       "      <th>is_child</th>\n",
       "      <th>is_active</th>\n",
       "      <th>gender_male</th>\n",
       "      <th>smoker_yes</th>\n",
       "      <th>medical_history_Heart disease</th>\n",
       "      <th>medical_history_High blood pressure</th>\n",
       "      <th>...</th>\n",
       "      <th>family_medical_history_High blood pressure</th>\n",
       "      <th>family_medical_history_No history</th>\n",
       "      <th>exercise_frequency_Never</th>\n",
       "      <th>exercise_frequency_Occasionally</th>\n",
       "      <th>exercise_frequency_Rarely</th>\n",
       "      <th>occupation_Student</th>\n",
       "      <th>occupation_Unemployed</th>\n",
       "      <th>occupation_White collar</th>\n",
       "      <th>coverage_level_Premium</th>\n",
       "      <th>coverage_level_Standard</th>\n",
       "    </tr>\n",
       "  </thead>\n",
       "  <tbody>\n",
       "    <tr>\n",
       "      <th>0</th>\n",
       "      <td>55</td>\n",
       "      <td>36</td>\n",
       "      <td>0</td>\n",
       "      <td>11896</td>\n",
       "      <td>0</td>\n",
       "      <td>0</td>\n",
       "      <td>0</td>\n",
       "      <td>1</td>\n",
       "      <td>0</td>\n",
       "      <td>0</td>\n",
       "      <td>...</td>\n",
       "      <td>0</td>\n",
       "      <td>1</td>\n",
       "      <td>1</td>\n",
       "      <td>0</td>\n",
       "      <td>0</td>\n",
       "      <td>1</td>\n",
       "      <td>0</td>\n",
       "      <td>0</td>\n",
       "      <td>0</td>\n",
       "      <td>0</td>\n",
       "    </tr>\n",
       "    <tr>\n",
       "      <th>1</th>\n",
       "      <td>64</td>\n",
       "      <td>20</td>\n",
       "      <td>2</td>\n",
       "      <td>9563</td>\n",
       "      <td>0</td>\n",
       "      <td>0</td>\n",
       "      <td>0</td>\n",
       "      <td>0</td>\n",
       "      <td>0</td>\n",
       "      <td>1</td>\n",
       "      <td>...</td>\n",
       "      <td>1</td>\n",
       "      <td>0</td>\n",
       "      <td>1</td>\n",
       "      <td>0</td>\n",
       "      <td>0</td>\n",
       "      <td>0</td>\n",
       "      <td>0</td>\n",
       "      <td>0</td>\n",
       "      <td>0</td>\n",
       "      <td>0</td>\n",
       "    </tr>\n",
       "    <tr>\n",
       "      <th>2</th>\n",
       "      <td>40</td>\n",
       "      <td>44</td>\n",
       "      <td>2</td>\n",
       "      <td>14036</td>\n",
       "      <td>0</td>\n",
       "      <td>1</td>\n",
       "      <td>0</td>\n",
       "      <td>1</td>\n",
       "      <td>0</td>\n",
       "      <td>0</td>\n",
       "      <td>...</td>\n",
       "      <td>0</td>\n",
       "      <td>0</td>\n",
       "      <td>0</td>\n",
       "      <td>1</td>\n",
       "      <td>0</td>\n",
       "      <td>0</td>\n",
       "      <td>1</td>\n",
       "      <td>0</td>\n",
       "      <td>0</td>\n",
       "      <td>0</td>\n",
       "    </tr>\n",
       "    <tr>\n",
       "      <th>3</th>\n",
       "      <td>22</td>\n",
       "      <td>32</td>\n",
       "      <td>5</td>\n",
       "      <td>13669</td>\n",
       "      <td>0</td>\n",
       "      <td>0</td>\n",
       "      <td>0</td>\n",
       "      <td>1</td>\n",
       "      <td>0</td>\n",
       "      <td>0</td>\n",
       "      <td>...</td>\n",
       "      <td>0</td>\n",
       "      <td>1</td>\n",
       "      <td>1</td>\n",
       "      <td>0</td>\n",
       "      <td>0</td>\n",
       "      <td>1</td>\n",
       "      <td>0</td>\n",
       "      <td>0</td>\n",
       "      <td>0</td>\n",
       "      <td>0</td>\n",
       "    </tr>\n",
       "    <tr>\n",
       "      <th>4</th>\n",
       "      <td>64</td>\n",
       "      <td>29</td>\n",
       "      <td>2</td>\n",
       "      <td>9414</td>\n",
       "      <td>0</td>\n",
       "      <td>1</td>\n",
       "      <td>0</td>\n",
       "      <td>0</td>\n",
       "      <td>0</td>\n",
       "      <td>1</td>\n",
       "      <td>...</td>\n",
       "      <td>0</td>\n",
       "      <td>1</td>\n",
       "      <td>0</td>\n",
       "      <td>0</td>\n",
       "      <td>0</td>\n",
       "      <td>0</td>\n",
       "      <td>1</td>\n",
       "      <td>0</td>\n",
       "      <td>0</td>\n",
       "      <td>0</td>\n",
       "    </tr>\n",
       "  </tbody>\n",
       "</table>\n",
       "<p>5 rows × 22 columns</p>\n",
       "</div>"
      ],
      "text/plain": [
       "   age  bmi  children  charges  is_child  is_active  gender_male  smoker_yes  \\\n",
       "0   55   36         0    11896         0          0            0           1   \n",
       "1   64   20         2     9563         0          0            0           0   \n",
       "2   40   44         2    14036         0          1            0           1   \n",
       "3   22   32         5    13669         0          0            0           1   \n",
       "4   64   29         2     9414         0          1            0           0   \n",
       "\n",
       "   medical_history_Heart disease  medical_history_High blood pressure  ...  \\\n",
       "0                              0                                    0  ...   \n",
       "1                              0                                    1  ...   \n",
       "2                              0                                    0  ...   \n",
       "3                              0                                    0  ...   \n",
       "4                              0                                    1  ...   \n",
       "\n",
       "   family_medical_history_High blood pressure  \\\n",
       "0                                           0   \n",
       "1                                           1   \n",
       "2                                           0   \n",
       "3                                           0   \n",
       "4                                           0   \n",
       "\n",
       "   family_medical_history_No history  exercise_frequency_Never  \\\n",
       "0                                  1                         1   \n",
       "1                                  0                         1   \n",
       "2                                  0                         0   \n",
       "3                                  1                         1   \n",
       "4                                  1                         0   \n",
       "\n",
       "   exercise_frequency_Occasionally  exercise_frequency_Rarely  \\\n",
       "0                                0                          0   \n",
       "1                                0                          0   \n",
       "2                                1                          0   \n",
       "3                                0                          0   \n",
       "4                                0                          0   \n",
       "\n",
       "   occupation_Student  occupation_Unemployed  occupation_White collar  \\\n",
       "0                   1                      0                        0   \n",
       "1                   0                      0                        0   \n",
       "2                   0                      1                        0   \n",
       "3                   1                      0                        0   \n",
       "4                   0                      1                        0   \n",
       "\n",
       "   coverage_level_Premium  coverage_level_Standard  \n",
       "0                       0                        0  \n",
       "1                       0                        0  \n",
       "2                       0                        0  \n",
       "3                       0                        0  \n",
       "4                       0                        0  \n",
       "\n",
       "[5 rows x 22 columns]"
      ]
     },
     "execution_count": 43,
     "metadata": {},
     "output_type": "execute_result"
    }
   ],
   "source": [
    "insurance_data_encoded.head()"
   ]
  },
  {
   "cell_type": "code",
   "execution_count": 48,
   "id": "c5ae8ada",
   "metadata": {},
   "outputs": [
    {
     "data": {
      "text/plain": [
       "Index(['age', 'bmi', 'children', 'charges', 'is_child', 'is_active',\n",
       "       'gender_male', 'smoker_yes', 'medical_history_Heart disease',\n",
       "       'medical_history_High blood pressure', 'medical_history_No history',\n",
       "       'family_medical_history_Heart disease',\n",
       "       'family_medical_history_High blood pressure',\n",
       "       'family_medical_history_No history', 'exercise_frequency_Never',\n",
       "       'exercise_frequency_Occasionally', 'exercise_frequency_Rarely',\n",
       "       'occupation_Student', 'occupation_Unemployed',\n",
       "       'occupation_White collar', 'coverage_level_Premium',\n",
       "       'coverage_level_Standard'],\n",
       "      dtype='object')"
      ]
     },
     "execution_count": 48,
     "metadata": {},
     "output_type": "execute_result"
    }
   ],
   "source": [
    "insurance_data_encoded.columns"
   ]
  },
  {
   "cell_type": "code",
   "execution_count": 44,
   "id": "56380bdf",
   "metadata": {},
   "outputs": [],
   "source": [
    "##Since above EDA we saw that people with medical history- heart disease contribute to higher insurance premiums,\n",
    "##we will analyze how heart disease is related to age, gender, BMI, smoking, exercise, or family history"
   ]
  },
  {
   "cell_type": "code",
   "execution_count": 50,
   "id": "bb9943d8",
   "metadata": {},
   "outputs": [
    {
     "data": {
      "text/plain": [
       "family_medical_history_Heart disease          1.000000\n",
       "charges                                       0.394977\n",
       "smoker_yes                                    0.002691\n",
       "children                                      0.002679\n",
       "occupation_White collar                       0.001843\n",
       "age                                           0.001311\n",
       "coverage_level_Premium                        0.000998\n",
       "exercise_frequency_Rarely                     0.000809\n",
       "exercise_frequency_Occasionally               0.000752\n",
       "exercise_frequency_Never                      0.000486\n",
       "occupation_Unemployed                         0.000261\n",
       "gender_male                                   0.000173\n",
       "medical_history_No history                    0.000009\n",
       "medical_history_Heart disease                -0.000064\n",
       "is_active                                    -0.001121\n",
       "bmi                                          -0.001140\n",
       "coverage_level_Standard                      -0.001312\n",
       "medical_history_High blood pressure          -0.002422\n",
       "occupation_Student                           -0.002577\n",
       "family_medical_history_High blood pressure   -0.332608\n",
       "family_medical_history_No history            -0.333083\n",
       "is_child                                           NaN\n",
       "dtype: float64"
      ]
     },
     "execution_count": 50,
     "metadata": {},
     "output_type": "execute_result"
    }
   ],
   "source": [
    "correlations = insurance_data_encoded.corrwith(insurance_data_encoded['family_medical_history_Heart disease'])  #calculates the correlation\n",
    "(correlations).sort_values(ascending=False)\n"
   ]
  },
  {
   "cell_type": "markdown",
   "id": "c41a52d5",
   "metadata": {},
   "source": [
    "From the above analyses we can observe that family/medical history of High blood pressure do not have heart problems - \n",
    "medical/family history of high blood pressue has least correlation with heart problem people\n"
   ]
  },
  {
   "cell_type": "code",
   "execution_count": 51,
   "id": "f7dbff31",
   "metadata": {},
   "outputs": [
    {
     "data": {
      "text/plain": [
       "charges                                       1.000000\n",
       "smoker_yes                                    0.567483\n",
       "coverage_level_Premium                        0.426794\n",
       "medical_history_Heart disease                 0.395101\n",
       "family_medical_history_Heart disease          0.394977\n",
       "is_active                                     0.142206\n",
       "occupation_White collar                       0.129751\n",
       "gender_male                                   0.111777\n",
       "bmi                                           0.102914\n",
       "children                                      0.080150\n",
       "age                                           0.066001\n",
       "exercise_frequency_Occasionally               0.017374\n",
       "exercise_frequency_Rarely                    -0.050423\n",
       "coverage_level_Standard                      -0.052078\n",
       "occupation_Student                           -0.065222\n",
       "exercise_frequency_Never                     -0.114044\n",
       "medical_history_High blood pressure          -0.132429\n",
       "occupation_Unemployed                        -0.132552\n",
       "family_medical_history_High blood pressure   -0.133256\n",
       "family_medical_history_No history            -0.262649\n",
       "medical_history_No history                   -0.262748\n",
       "is_child                                           NaN\n",
       "dtype: float64"
      ]
     },
     "execution_count": 51,
     "metadata": {},
     "output_type": "execute_result"
    }
   ],
   "source": [
    "correlations = insurance_data_encoded.corrwith(insurance_data_encoded['charges'])  #calculates the correlation\n",
    "(correlations).sort_values(ascending=False)"
   ]
  },
  {
   "cell_type": "markdown",
   "id": "a0102ed5",
   "metadata": {},
   "source": [
    "People who smokes, takes premium coverage level, family/medical history of heart disease make most contribution to charges"
   ]
  },
  {
   "cell_type": "markdown",
   "id": "1616ef19",
   "metadata": {},
   "source": [
    "# Process Followed & EDA results"
   ]
  },
  {
   "cell_type": "markdown",
   "id": "ea72ceff",
   "metadata": {},
   "source": [
    "- Loaded the data of USA northeast region.\n",
    "- Checked for null values: \n",
    "        Null Values existed in medical_history, family_medical_history, filled these values with No history to retain the data  & avoid data loss \n",
    "- Ensured correct data type is assigned to all the variables, (eg: 'gender', 'smoker', 'region', 'medical_history', 'family_medical_history', 'exercise_frequency', 'occupation', 'coverage_level' - category) \n",
    "- There are no outliers in insurance_dataset\n",
    "- There are no duplicates in insurance_dataset\n",
    "- Performed One - hot encoding using 'pd.get_dummies'\n",
    "- Performed basic EDA, results are as mentioned below:\n",
    "    - Advanced age, male gender, heart disease & white collar job occupation are associated with higher insurance cost\n",
    "    - Medical/family history of high blood pressure has least correlation with heart problem people. Family/medical history of High blood pressure do not have heart problems\n",
    "    - People who smokes, takes premium coverage level, family/medical history of heart disease make most contribution to charges\n"
   ]
  },
  {
   "cell_type": "code",
   "execution_count": null,
   "id": "ac1b87d1",
   "metadata": {},
   "outputs": [],
   "source": []
  },
  {
   "cell_type": "code",
   "execution_count": null,
   "id": "6fa9a5f8",
   "metadata": {},
   "outputs": [],
   "source": []
  },
  {
   "cell_type": "code",
   "execution_count": null,
   "id": "fc135e30",
   "metadata": {},
   "outputs": [],
   "source": []
  }
 ],
 "metadata": {
  "kernelspec": {
   "display_name": "Python 3 (ipykernel)",
   "language": "python",
   "name": "python3"
  },
  "language_info": {
   "codemirror_mode": {
    "name": "ipython",
    "version": 3
   },
   "file_extension": ".py",
   "mimetype": "text/x-python",
   "name": "python",
   "nbconvert_exporter": "python",
   "pygments_lexer": "ipython3",
   "version": "3.11.5"
  }
 },
 "nbformat": 4,
 "nbformat_minor": 5
}
